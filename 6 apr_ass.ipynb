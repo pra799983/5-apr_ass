{
 "cells": [
  {
   "cell_type": "code",
   "execution_count": null,
   "id": "9e67e43a-2f34-40db-83a9-2c9859a7bca4",
   "metadata": {},
   "outputs": [],
   "source": [
    "Q1. What is the mathematical formula for a linear SVM?"
   ]
  },
  {
   "cell_type": "code",
   "execution_count": null,
   "id": "955c28bf-e2c8-412d-96f3-714b0d3d02f9",
   "metadata": {},
   "outputs": [],
   "source": [
    "The mathematical formula for a linear Support Vector Machine (SVM) can be expressed as follows:\n",
    "\n",
    "Given a training dataset with features X and corresponding labels y, where X = {x₁, x₂, ..., xn} and y = {-1, +1}, the goal of a linear \n",
    "SVM is to find a hyperplane that maximally separates the data into two classes.\n",
    "\n",
    "The hyperplane is defined by the equation:\n",
    "\n",
    "w · x + b = 0\n",
    "\n",
    "where:\n",
    "\n",
    "w is the weight vector perpendicular to the hyperplane.\n",
    "x is the input feature vector.\n",
    "· denotes the dot product between vectors.\n",
    "b is the bias term that represents the offset of the hyperplane from the origin.\n",
    "The decision function of the linear SVM can be defined as:\n",
    "\n",
    "f(x) = sign(w · x + b)\n",
    "\n",
    "where:\n",
    "\n",
    "f(x) predicts the class label (+1 or -1) for a given input vector x.\n",
    "sign() is the sign function that returns +1 if the argument is positive or zero, and -1 if the argument is negative.\n",
    "To find the optimal hyperplane, the SVM aims to maximize the margin, which is the distance between the hyperplane and the nearest \n",
    "data points of each class. This is typically achieved by solving an optimization problem known as the primal form or dual form of the SVM.\n",
    "\n",
    "In the primal form, the goal is to minimize the objective function:\n",
    "\n",
    "minimize ½ ||w||² + C Σ ξᵢ\n",
    "\n",
    "subject to yᵢ(w · xᵢ + b) ≥ 1 - ξᵢ, for all i\n",
    "\n",
    "where:\n",
    "\n",
    "ξᵢ is a slack variable that allows for some misclassification of data points.\n",
    "C is a regularization parameter that controls the trade-off between maximizing the margin and minimizing the training errors.\n",
    "The optimization problem can be solved using various optimization algorithms, such as quadratic programming or gradient descent,\n",
    "depending on the specific implementation."
   ]
  },
  {
   "cell_type": "code",
   "execution_count": null,
   "id": "be2138e4-fd8a-473a-9dfe-0e6f712aed86",
   "metadata": {},
   "outputs": [],
   "source": [
    "Q2. What is the objective function of a linear SVM?"
   ]
  },
  {
   "cell_type": "code",
   "execution_count": null,
   "id": "79d57b92-0f64-44c5-93d5-51ef55e6c3f3",
   "metadata": {},
   "outputs": [],
   "source": [
    "The objective function of a linear SVM can be defined as:\n",
    "\n",
    "minimize ½ ||w||² + C Σ ξᵢ\n",
    "\n",
    "where:\n",
    "\n",
    "||w||² represents the squared L2 norm of the weight vector w. This term encourages the maximization of the margin, which is inversely\n",
    "proportional to the magnitude of the weight vector.\n",
    "C is a regularization parameter that controls the trade-off between maximizing the margin and minimizing the training errors. It determines\n",
    "the penalty for misclassified samples. A larger C value results in a smaller margin but fewer misclassifications, while a smaller C value\n",
    "prioritizes a larger margin but allows more misclassifications.\n",
    "ξᵢ is a slack variable associated with each training sample. It allows for some misclassification or points that fall within the margin. \n",
    "The summation term, Σ ξᵢ, measures the total amount of misclassification or violation of the margin."
   ]
  },
  {
   "cell_type": "code",
   "execution_count": null,
   "id": "329410e5-c327-4d98-a89c-0af79fc43ed3",
   "metadata": {},
   "outputs": [],
   "source": [
    "Q3. What is the kernel trick in SVM?"
   ]
  },
  {
   "cell_type": "code",
   "execution_count": null,
   "id": "e7bc90ad-c06d-4fcd-8809-02795420ab65",
   "metadata": {},
   "outputs": [],
   "source": [
    "The kernel trick is a technique used in Support Vector Machines (SVMs) to implicitly transform the input data into a higher-dimensional feature space without explicitly calculating the transformed feature vectors. It allows SVMs to efficiently handle non-linearly separable datasets by finding a non-linear decision boundary in the transformed feature space.\n",
    "\n",
    "The kernel trick is based on the concept of kernel functions. A kernel function is a function that takes two input vectors and computes the inner product (similarity) between them in a higher-dimensional feature space, without explicitly calculating the transformed feature vectors. The key idea is that the kernel function provides a way to measure similarity between samples in the original space without explicitly mapping them to the higher-dimensional space.\n",
    "\n",
    "In the context of SVMs, the kernel trick is used to replace the explicit computation of feature vectors in the transformed space with the evaluation of the kernel function. This avoids the computational burden associated with calculating the transformed features directly. The kernel function acts as a similarity measure between pairs of input samples, enabling the SVM to learn a decision boundary that is non-linear in the original input space.\n",
    "\n",
    "Some commonly used kernel functions include:\n",
    "\n",
    "Linear Kernel: K(x, y) = x · y\n",
    "This is the simplest kernel function that corresponds to the linear SVM. It computes the dot product between the input vectors in the original space.\n",
    "\n",
    "Polynomial Kernel: K(x, y) = (α(x · y) + c)ᵈ\n",
    "This kernel function allows for polynomial decision boundaries in the feature space. The parameter d controls the degree of the polynomial, α is a scaling factor, and c is a constant term.\n",
    "\n",
    "Gaussian (RBF) Kernel: K(x, y) = exp(-γ ||x - y||²)\n",
    "The Gaussian kernel measures the similarity between samples based on the Euclidean distance between them. The parameter γ determines the width of the Gaussian."
   ]
  },
  {
   "cell_type": "code",
   "execution_count": null,
   "id": "45986b32-ee91-4148-87cc-718b164f94ac",
   "metadata": {},
   "outputs": [],
   "source": [
    "Q4. What is the role of support vectors in SVM Explain with example"
   ]
  },
  {
   "cell_type": "code",
   "execution_count": null,
   "id": "e6c5cd7f-90e0-46eb-b94a-bac05a3eda11",
   "metadata": {},
   "outputs": [],
   "source": [
    "Support vectors play a crucial role in Support Vector Machines (SVMs) as they directly contribute to the definition of the decision boundary. In SVM, the decision boundary is determined by a subset of training samples called support vectors. These support vectors are the samples that are closest to the decision boundary or lie on the margin."
   ]
  },
  {
   "cell_type": "code",
   "execution_count": null,
   "id": "703f2f2d-aadc-4320-a4ec-caffc0581db2",
   "metadata": {},
   "outputs": [],
   "source": [
    "Q5. Illustrate with examples and graphs of Hyperplane, Marginal plane, Soft margin and Hard margin in\n",
    "SVM?"
   ]
  },
  {
   "cell_type": "code",
   "execution_count": null,
   "id": "83abaff5-2a81-4c98-9717-66079eb91c1e",
   "metadata": {},
   "outputs": [],
   "source": []
  },
  {
   "cell_type": "code",
   "execution_count": null,
   "id": "183d1f77-eb89-4672-ab80-24df2cbd7439",
   "metadata": {},
   "outputs": [],
   "source": [
    "Q6. SVM Implementation through Iris dataset.\n",
    "\n",
    "Bonus task: Implement a linear SVM classifier from scratch using Python and compare its\n",
    "performance with the scikit-learn implementation.\n",
    "\n",
    "~ Load the iris dataset from the scikit-learn library and split it into a training set and a testing setl\n",
    "~ Train a linear SVM classifier on the training set and predict the labels for the testing setl\n",
    "~ Compute the accuracy of the model on the testing setl\n",
    "~ Plot the decision boundaries of the trained model using two of the featuresl\n",
    "~ Try different values of the regularisation parameter C and see how it affects the performance of\n",
    "the model."
   ]
  },
  {
   "cell_type": "code",
   "execution_count": 16,
   "id": "21ce982e-917a-4cb7-8b52-2307f67df2ae",
   "metadata": {},
   "outputs": [],
   "source": [
    "import numpy as np\n",
    "import pandas as pd\n",
    "import matplotlib.pyplot as plt\n",
    "import seaborn as sns\n",
    "%matplotlib inline"
   ]
  },
  {
   "cell_type": "code",
   "execution_count": 17,
   "id": "3c2b9613-64f0-4ae1-9dfa-e82b488d0824",
   "metadata": {},
   "outputs": [],
   "source": [
    "from  sklearn.model_selection import train_test_split"
   ]
  },
  {
   "cell_type": "code",
   "execution_count": 18,
   "id": "9c9346ec-6a75-4f21-95eb-9990ece262ba",
   "metadata": {},
   "outputs": [],
   "source": [
    "X,y = load_iris(return_X_y = True)"
   ]
  },
  {
   "cell_type": "code",
   "execution_count": 21,
   "id": "24972570-afe9-47aa-9171-6c67fbab0fdb",
   "metadata": {},
   "outputs": [
    {
     "data": {
      "text/plain": [
       "((150, 4), (150,))"
      ]
     },
     "execution_count": 21,
     "metadata": {},
     "output_type": "execute_result"
    }
   ],
   "source": [
    "X.shape,y.shape"
   ]
  },
  {
   "cell_type": "code",
   "execution_count": 22,
   "id": "9bf9159c-dcfa-4361-b46b-1b707998740d",
   "metadata": {},
   "outputs": [],
   "source": [
    "X_train, X_test, y_train, y_test = train_test_split(X, y, test_size=0.3, random_state=0)"
   ]
  },
  {
   "cell_type": "code",
   "execution_count": 23,
   "id": "a4114baf-89a2-423a-960d-691973ad7a1a",
   "metadata": {},
   "outputs": [
    {
     "data": {
      "text/plain": [
       "0      5.1\n",
       "1      4.9\n",
       "2      4.7\n",
       "3      4.6\n",
       "4      5.0\n",
       "      ... \n",
       "145    6.7\n",
       "146    6.3\n",
       "147    6.5\n",
       "148    6.2\n",
       "149    5.9\n",
       "Name: 0, Length: 150, dtype: float64"
      ]
     },
     "execution_count": 23,
     "metadata": {},
     "output_type": "execute_result"
    }
   ],
   "source": [
    "pd.DataFrame(X)[0]"
   ]
  },
  {
   "cell_type": "code",
   "execution_count": 24,
   "id": "43156142-c89d-480b-b692-12f9c27403ee",
   "metadata": {},
   "outputs": [
    {
     "data": {
      "text/plain": [
       "<AxesSubplot: xlabel='0', ylabel='1'>"
      ]
     },
     "execution_count": 24,
     "metadata": {},
     "output_type": "execute_result"
    },
    {
     "data": {
      "image/png": "[encoded data removed]",
      "text/plain": [
       "<Figure size 640x480 with 1 Axes>"
      ]
     },
     "metadata": {},
     "output_type": "display_data"
    }
   ],
   "source": [
    "sns.scatterplot(x =pd.DataFrame(X)[0],y = pd.DataFrame(X)[1],hue = y)"
   ]
  },
  {
   "cell_type": "code",
   "execution_count": 25,
   "id": "5d4edde4-ae36-47ca-b945-d8d53b6fc94e",
   "metadata": {},
   "outputs": [],
   "source": [
    "from sklearn.svm import SVC"
   ]
  },
  {
   "cell_type": "code",
   "execution_count": 26,
   "id": "bc5d84b3-1262-4569-ad19-8c43e235c512",
   "metadata": {},
   "outputs": [],
   "source": [
    "svc = SVC(kernel = 'linear')"
   ]
  },
  {
   "cell_type": "code",
   "execution_count": 27,
   "id": "f3ed0d87-bebf-4f59-80e7-060ac7cf845c",
   "metadata": {},
   "outputs": [
    {
     "data": {
      "text/html": [
       "<style>#sk-container-id-1 {color: black;background-color: white;}#sk-container-id-1 pre{padding: 0;}#sk-container-id-1 div.sk-toggleable {background-color: white;}#sk-container-id-1 label.sk-toggleable__label {cursor: pointer;display: block;width: 100%;margin-bottom: 0;padding: 0.3em;box-sizing: border-box;text-align: center;}#sk-container-id-1 label.sk-toggleable__label-arrow:before {content: \"▸\";float: left;margin-right: 0.25em;color: #696969;}#sk-container-id-1 label.sk-toggleable__label-arrow:hover:before {color: black;}#sk-container-id-1 div.sk-estimator:hover label.sk-toggleable__label-arrow:before {color: black;}#sk-container-id-1 div.sk-toggleable__content {max-height: 0;max-width: 0;overflow: hidden;text-align: left;background-color: #f0f8ff;}#sk-container-id-1 div.sk-toggleable__content pre {margin: 0.2em;color: black;border-radius: 0.25em;background-color: #f0f8ff;}#sk-container-id-1 input.sk-toggleable__control:checked~div.sk-toggleable__content {max-height: 200px;max-width: 100%;overflow: auto;}#sk-container-id-1 input.sk-toggleable__control:checked~label.sk-toggleable__label-arrow:before {content: \"▾\";}#sk-container-id-1 div.sk-estimator input.sk-toggleable__control:checked~label.sk-toggleable__label {background-color: #d4ebff;}#sk-container-id-1 div.sk-label input.sk-toggleable__control:checked~label.sk-toggleable__label {background-color: #d4ebff;}#sk-container-id-1 input.sk-hidden--visually {border: 0;clip: rect(1px 1px 1px 1px);clip: rect(1px, 1px, 1px, 1px);height: 1px;margin: -1px;overflow: hidden;padding: 0;position: absolute;width: 1px;}#sk-container-id-1 div.sk-estimator {font-family: monospace;background-color: #f0f8ff;border: 1px dotted black;border-radius: 0.25em;box-sizing: border-box;margin-bottom: 0.5em;}#sk-container-id-1 div.sk-estimator:hover {background-color: #d4ebff;}#sk-container-id-1 div.sk-parallel-item::after {content: \"\";width: 100%;border-bottom: 1px solid gray;flex-grow: 1;}#sk-container-id-1 div.sk-label:hover label.sk-toggleable__label {background-color: #d4ebff;}#sk-container-id-1 div.sk-serial::before {content: \"\";position: absolute;border-left: 1px solid gray;box-sizing: border-box;top: 0;bottom: 0;left: 50%;z-index: 0;}#sk-container-id-1 div.sk-serial {display: flex;flex-direction: column;align-items: center;background-color: white;padding-right: 0.2em;padding-left: 0.2em;position: relative;}#sk-container-id-1 div.sk-item {position: relative;z-index: 1;}#sk-container-id-1 div.sk-parallel {display: flex;align-items: stretch;justify-content: center;background-color: white;position: relative;}#sk-container-id-1 div.sk-item::before, #sk-container-id-1 div.sk-parallel-item::before {content: \"\";position: absolute;border-left: 1px solid gray;box-sizing: border-box;top: 0;bottom: 0;left: 50%;z-index: -1;}#sk-container-id-1 div.sk-parallel-item {display: flex;flex-direction: column;z-index: 1;position: relative;background-color: white;}#sk-container-id-1 div.sk-parallel-item:first-child::after {align-self: flex-end;width: 50%;}#sk-container-id-1 div.sk-parallel-item:last-child::after {align-self: flex-start;width: 50%;}#sk-container-id-1 div.sk-parallel-item:only-child::after {width: 0;}#sk-container-id-1 div.sk-dashed-wrapped {border: 1px dashed gray;margin: 0 0.4em 0.5em 0.4em;box-sizing: border-box;padding-bottom: 0.4em;background-color: white;}#sk-container-id-1 div.sk-label label {font-family: monospace;font-weight: bold;display: inline-block;line-height: 1.2em;}#sk-container-id-1 div.sk-label-container {text-align: center;}#sk-container-id-1 div.sk-container {/* jupyter's `normalize.less` sets `[hidden] { display: none; }` but bootstrap.min.css set `[hidden] { display: none !important; }` so we also need the `!important` here to be able to override the default hidden behavior on the sphinx rendered scikit-learn.org. See: https://github.com/scikit-learn/scikit-learn/issues/21755 */display: inline-block !important;position: relative;}#sk-container-id-1 div.sk-text-repr-fallback {display: none;}</style><div id=\"sk-container-id-1\" class=\"sk-top-container\"><div class=\"sk-text-repr-fallback\"><pre>SVC(kernel=&#x27;linear&#x27;)</pre><b>In a Jupyter environment, please rerun this cell to show the HTML representation or trust the notebook. <br />On GitHub, the HTML representation is unable to render, please try loading this page with nbviewer.org.</b></div><div class=\"sk-container\" hidden><div class=\"sk-item\"><div class=\"sk-estimator sk-toggleable\"><input class=\"sk-toggleable__control sk-hidden--visually\" id=\"sk-estimator-id-1\" type=\"checkbox\" checked><label for=\"sk-estimator-id-1\" class=\"sk-toggleable__label sk-toggleable__label-arrow\">SVC</label><div class=\"sk-toggleable__content\"><pre>SVC(kernel=&#x27;linear&#x27;)</pre></div></div></div></div></div>"
      ],
      "text/plain": [
       "SVC(kernel='linear')"
      ]
     },
     "execution_count": 27,
     "metadata": {},
     "output_type": "execute_result"
    }
   ],
   "source": [
    "svc.fit(X_train,y_train)"
   ]
  },
  {
   "cell_type": "code",
   "execution_count": 28,
   "id": "7e904164-6415-47ba-95c3-8500252a21b7",
   "metadata": {},
   "outputs": [
    {
     "data": {
      "text/plain": [
       "array([[-0.04627259,  0.52114901, -1.00303714, -0.46412669],\n",
       "       [ 0.04016065,  0.16064259, -0.56224908, -0.24096389],\n",
       "       [ 0.9188543 ,  0.83747849, -2.1806611 , -1.66296632]])"
      ]
     },
     "execution_count": 28,
     "metadata": {},
     "output_type": "execute_result"
    }
   ],
   "source": [
    "svc.coef_"
   ]
  },
  {
   "cell_type": "code",
   "execution_count": null,
   "id": "55dc749b-1039-4540-b2b1-8b2c5de2a6b4",
   "metadata": {},
   "outputs": [],
   "source": []
  }
 ],
 "metadata": {
  "kernelspec": {
   "display_name": "Python 3 (ipykernel)",
   "language": "python",
   "name": "python3"
  },
  "language_info": {
   "codemirror_mode": {
    "name": "ipython",
    "version": 3
   },
   "file_extension": ".py",
   "mimetype": "text/x-python",
   "name": "python",
   "nbconvert_exporter": "python",
   "pygments_lexer": "ipython3",
   "version": "3.10.8"
  }
 },
 "nbformat": 4,
 "nbformat_minor": 5
}
