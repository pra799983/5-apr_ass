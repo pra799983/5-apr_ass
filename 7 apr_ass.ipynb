{
 "cells": [
  {
   "cell_type": "code",
   "execution_count": null,
   "id": "a93ee059-b29e-44d7-891a-4a61f0eb3994",
   "metadata": {},
   "outputs": [],
   "source": [
    "Q1. What is the relationship between polynomial functions and kernel functions in machine learning\n",
    "algorithms?"
   ]
  },
  {
   "cell_type": "code",
   "execution_count": null,
   "id": "0d5d088d-1ffd-4e8b-8fee-7482f1e8ac95",
   "metadata": {},
   "outputs": [],
   "source": [
    "In machine learning algorithms, the relationship between polynomial functions and kernel functions lies in the context of kernel methods, particularly\n",
    "in support vector machines (SVMs).\n",
    "\n",
    "Polynomial functions are mathematical functions that involve variables raised to powers and multiplied by coefficients. They can be used to model \n",
    "complex relationships between input features in a nonlinear manner. In SVMs, polynomial functions can be used as the basis for constructing kernel \n",
    "functions.\n",
    "\n",
    "A kernel function in SVMs is a mathematical function that computes the similarity between two input samples in a transformed feature space. It enables\n",
    "SVMs to operate in a high-dimensional feature space without explicitly calculating the coordinates of the data points in that space. By using a kernel\n",
    "function, SVMs can efficiently find nonlinear decision boundaries in the original input space.\n",
    "\n",
    "The polynomial kernel is a specific type of kernel function commonly used in SVMs. It allows SVMs to capture nonlinear relationships between features\n",
    "by applying polynomial functions to the original input data. The polynomial kernel function computes the similarity between two samples as the\n",
    "polynomial of the dot product between their feature vectors. The degree of the polynomial determines the complexity of the decision boundary.\n",
    "\n",
    "By using a polynomial kernel function, SVMs can effectively learn and model nonlinear patterns in the data. The kernel trick, which is the efficient \n",
    "computation of the dot product in the transformed feature space, allows SVMs to avoid explicitly mapping the data into the high-dimensional space.\n",
    "Instead, the kernel function directly computes the similarity in the original input space, making the SVM algorithm computationally efficient."
   ]
  },
  {
   "cell_type": "code",
   "execution_count": null,
   "id": "8553102b-208c-4b54-a1ce-8854e8380090",
   "metadata": {},
   "outputs": [],
   "source": [
    "Q2. How can we implement an SVM with a polynomial kernel in Python using Scikit-learn?"
   ]
  },
  {
   "cell_type": "code",
   "execution_count": 1,
   "id": "e4e7a313-1f57-4d10-91c5-44b3bb527816",
   "metadata": {},
   "outputs": [
    {
     "name": "stdout",
     "output_type": "stream",
     "text": [
      "Accuracy: 1.0\n"
     ]
    }
   ],
   "source": [
    "from sklearn import svm\n",
    "from sklearn.datasets import load_iris\n",
    "from sklearn.model_selection import train_test_split\n",
    "from sklearn.metrics import accuracy_score\n",
    "\n",
    "# Load the Iris dataset\n",
    "iris = load_iris()\n",
    "X = iris.data\n",
    "y = iris.target\n",
    "\n",
    "# Split the dataset into training and test sets\n",
    "X_train, X_test, y_train, y_test = train_test_split(X, y, test_size=0.2, random_state=42)\n",
    "\n",
    "# Create an SVM classifier with a polynomial kernel\n",
    "clf = svm.SVC(kernel='poly', degree=3, C=1.0)\n",
    "\n",
    "# Fit the classifier to the training data\n",
    "clf.fit(X_train, y_train)\n",
    "\n",
    "# Make predictions on the test data\n",
    "y_pred = clf.predict(X_test)\n",
    "\n",
    "# Calculate the accuracy of the classifier\n",
    "accuracy = accuracy_score(y_test, y_pred)\n",
    "print(\"Accuracy:\", accuracy)"
   ]
  },
  {
   "cell_type": "code",
   "execution_count": null,
   "id": "6856b643-97b7-4fc8-b4f3-8b23334f6725",
   "metadata": {},
   "outputs": [],
   "source": [
    "Q3. How does increasing the value of epsilon affect the number of support vectors in SVR?"
   ]
  },
  {
   "cell_type": "code",
   "execution_count": null,
   "id": "fcb9188b-bd04-4d2c-804b-cbd9ffb6e8fe",
   "metadata": {},
   "outputs": [],
   "source": [
    "In Support Vector Regression (SVR), epsilon is a hyperparameter that determines the width of the epsilon-insensitive tube, which is the region where \n",
    "errors within this width are not penalized. It controls the trade-off between the model's complexity and its ability to fit the training data within \n",
    "a certain tolerance.\n",
    "\n",
    "When you increase the value of epsilon in SVR, it typically leads to an increase in the number of support vectors. The reason is that a larger epsilon\n",
    "allows for more data points to fall within the epsilon-insensitive tube without incurring a penalty. Consequently, more data points are considered \n",
    "support vectors as they lie within the margin or violate the epsilon-tube.\n",
    "\n",
    "Intuitively, a larger epsilon allows for a wider margin around the regression line, accommodating more data points within the margin. This \n",
    "flexibility leads to more support vectors being identified, as the model tries to find a balance between minimizing errors and allowing for a wider \n",
    "tolerance.\n",
    "\n",
    "It's important to note that the relationship between epsilon and the number of support vectors can depend on the specific dataset and problem at \n",
    "hand. In some cases, a smaller epsilon may lead to more support vectors if the data points have high variability or noise. The optimal value of \n",
    "epsilon should be determined through experimentation and cross-validation, considering the trade-off between model complexity and generalization \n",
    "performance."
   ]
  },
  {
   "cell_type": "code",
   "execution_count": null,
   "id": "a2081318-0940-4046-ad4b-ac20f65592b2",
   "metadata": {},
   "outputs": [],
   "source": [
    "Q4. How does the choice of kernel function, C parameter, epsilon parameter, and gamma parameter\n",
    "affect the performance of Support Vector Regression (SVR)? Can you explain how each parameter works\n",
    "and provide examples of when you might want to increase or decrease its value?"
   ]
  },
  {
   "cell_type": "code",
   "execution_count": null,
   "id": "ef15a3f9-0660-404f-ba7c-224738530fad",
   "metadata": {},
   "outputs": [],
   "source": [
    "The performance of Support Vector Regression (SVR) is influenced by several important parameters: the choice of kernel function, C parameter, epsilon\n",
    "parameter, and gamma parameter. Here's an explanation of each parameter and how they impact the SVR model:\n",
    "\n",
    "Kernel function: The kernel function determines the type of nonlinear mapping used to transform the input data into a higher-dimensional feature \n",
    "space. Common kernel functions include the linear kernel, polynomial kernel, radial basis function (RBF) kernel, and sigmoid kernel. The choice of\n",
    "kernel function depends on the problem and the underlying data distribution.\n",
    "\n",
    "Linear kernel: Suitable for linearly separable data or when the relationship between features is expected to be linear.\n",
    "Polynomial kernel: Captures polynomial relationships between features. The degree of the polynomial is controlled by the degree parameter.\n",
    "RBF kernel: Appropriate for complex, nonlinear relationships. The gamma parameter controls the smoothness of the decision boundary.\n",
    "Sigmoid kernel: Useful for problems with a sigmoidal-shaped decision boundary, such as binary classification tasks.\n",
    "C parameter: The C parameter (often called the regularization parameter) determines the trade-off between model complexity and fitting the training\n",
    "data. It controls the penalty for errors and the width of the margin. A smaller C allows for more violations of the margin and encourages a wider \n",
    "margin, potentially leading to a more generalized model. A larger C penalizes errors more strongly, resulting in a narrower margin and potentially\n",
    "overfitting the training data. Increasing C makes the model focus more on fitting the training data exactly, which may be suitable for scenarios with\n",
    "less noisy data.\n",
    "\n",
    "Epsilon parameter: The epsilon parameter (epsilon) determines the width of the epsilon-insensitive tube. It defines a range within which errors are \n",
    "considered negligible and do not contribute to the loss function. Larger epsilon values allow for a wider tube, providing more tolerance for errors. \n",
    "A smaller epsilon leads to a narrower tube, making the model less tolerant to errors. Increasing epsilon may be appropriate when the target variable \n",
    "has noise or when you want the model to be more robust to small deviations.\n",
    "\n",
    "Gamma parameter: The gamma parameter (gamma) controls the influence of each training example on the decision boundary. It determines the range of\n",
    "influence of a single training example. A smaller gamma value results in a broader influence range, making the decision boundary smoother and more\n",
    "generalized. A larger gamma value makes the influence range more localized, resulting in a more complex and potentially overfitted model. Increasing \n",
    "gamma can be useful when there are many input features or when each training example should have a more localized impact on the model."
   ]
  },
  {
   "cell_type": "code",
   "execution_count": null,
   "id": "a0f228dd-523b-4393-9c0f-abc9f3f0fd59",
   "metadata": {},
   "outputs": [],
   "source": [
    "Q5. Assignment:\n",
    "L Import the necessary libraries and load the dataseg\n",
    "L Split the dataset into training and testing setZ\n",
    "L Preprocess the data using any technique of your choice (e.g. scaling, normaliMationK\n",
    "L Create an instance of the SVC classifier and train it on the training datW\n",
    "L hse the trained classifier to predict the labels of the testing datW\n",
    "L Evaluate the performance of the classifier using any metric of your choice (e.g. accuracy,\n",
    "precision, recall, F1-scoreK\n",
    "L Tune the hyperparameters of the SVC classifier using GridSearchCV or RandomiMedSearchCV to\n",
    "improve its performanc_\n",
    "L Train the tuned classifier on the entire dataseg\n",
    "L Save the trained classifier to a file for future use."
   ]
  },
  {
   "cell_type": "code",
   "execution_count": 2,
   "id": "118bba9b-374c-4f7e-9b13-fab9919ccd18",
   "metadata": {},
   "outputs": [],
   "source": [
    "import numpy as np\n",
    "import pandas as pd\n",
    "import matplotlib.pyplot as plt\n",
    "import seaborn as sns\n",
    "%matplotlib inline"
   ]
  },
  {
   "cell_type": "code",
   "execution_count": 3,
   "id": "0e4c4f33-b7fa-4f1d-9d03-af02d46fce33",
   "metadata": {},
   "outputs": [],
   "source": [
    "from sklearn.datasets import  load_breast_cancer"
   ]
  },
  {
   "cell_type": "code",
   "execution_count": 4,
   "id": "16151e03-7ab4-4556-9ad6-0ea90398ee16",
   "metadata": {},
   "outputs": [],
   "source": [
    "from  sklearn.model_selection import train_test_split"
   ]
  },
  {
   "cell_type": "code",
   "execution_count": 7,
   "id": "5aaaec4b-5626-45ef-8662-d571fe2999c5",
   "metadata": {},
   "outputs": [],
   "source": [
    "X,y = load_breast_cancer(return_X_y = True)"
   ]
  },
  {
   "cell_type": "code",
   "execution_count": 9,
   "id": "c4b94690-1491-4aae-8f98-d1ef5dccf878",
   "metadata": {},
   "outputs": [
    {
     "data": {
      "text/plain": [
       "((569, 30), (569,))"
      ]
     },
     "execution_count": 9,
     "metadata": {},
     "output_type": "execute_result"
    }
   ],
   "source": [
    "X.shape,y.shape"
   ]
  },
  {
   "cell_type": "code",
   "execution_count": 10,
   "id": "ee33c6c1-891c-4e1b-9819-ab5349948848",
   "metadata": {},
   "outputs": [],
   "source": [
    "X_train, X_test, y_train, y_test = train_test_split(X, y, test_size=0.3, random_state=0)"
   ]
  },
  {
   "cell_type": "code",
   "execution_count": 11,
   "id": "15fbdd34-3ff7-4ee3-a2fc-056b5e2e52f8",
   "metadata": {},
   "outputs": [
    {
     "data": {
      "text/plain": [
       "0      17.99\n",
       "1      20.57\n",
       "2      19.69\n",
       "3      11.42\n",
       "4      20.29\n",
       "       ...  \n",
       "564    21.56\n",
       "565    20.13\n",
       "566    16.60\n",
       "567    20.60\n",
       "568     7.76\n",
       "Name: 0, Length: 569, dtype: float64"
      ]
     },
     "execution_count": 11,
     "metadata": {},
     "output_type": "execute_result"
    }
   ],
   "source": [
    "pd.DataFrame(X)[0]"
   ]
  },
  {
   "cell_type": "code",
   "execution_count": 12,
   "id": "559bdbd4-28a4-4409-9f1f-e078f8bc7832",
   "metadata": {},
   "outputs": [
    {
     "data": {
      "text/plain": [
       "<AxesSubplot: xlabel='0', ylabel='1'>"
      ]
     },
     "execution_count": 12,
     "metadata": {},
     "output_type": "execute_result"
    },
    {
     "data": {
      "image/png": "[encoded data removed]",
      "text/plain": [
       "<Figure size 640x480 with 1 Axes>"
      ]
     },
     "metadata": {},
     "output_type": "display_data"
    }
   ],
   "source": [
    "sns.scatterplot(x =pd.DataFrame(X)[0],y = pd.DataFrame(X)[1],hue = y)"
   ]
  },
  {
   "cell_type": "code",
   "execution_count": 13,
   "id": "7ec2c7d8-8c1b-4e18-ab70-66fe91982d7f",
   "metadata": {},
   "outputs": [],
   "source": [
    "from sklearn.svm import SVC"
   ]
  },
  {
   "cell_type": "code",
   "execution_count": 14,
   "id": "be9e6a50-ae6c-413d-87f0-7d2080c3a9a2",
   "metadata": {},
   "outputs": [],
   "source": [
    "svc = SVC(kernel = 'linear')"
   ]
  },
  {
   "cell_type": "code",
   "execution_count": 15,
   "id": "46d8d25b-6cf6-4782-ab31-3781eeb87a74",
   "metadata": {},
   "outputs": [
    {
     "data": {
      "text/html": [
       "<style>#sk-container-id-1 {color: black;background-color: white;}#sk-container-id-1 pre{padding: 0;}#sk-container-id-1 div.sk-toggleable {background-color: white;}#sk-container-id-1 label.sk-toggleable__label {cursor: pointer;display: block;width: 100%;margin-bottom: 0;padding: 0.3em;box-sizing: border-box;text-align: center;}#sk-container-id-1 label.sk-toggleable__label-arrow:before {content: \"▸\";float: left;margin-right: 0.25em;color: #696969;}#sk-container-id-1 label.sk-toggleable__label-arrow:hover:before {color: black;}#sk-container-id-1 div.sk-estimator:hover label.sk-toggleable__label-arrow:before {color: black;}#sk-container-id-1 div.sk-toggleable__content {max-height: 0;max-width: 0;overflow: hidden;text-align: left;background-color: #f0f8ff;}#sk-container-id-1 div.sk-toggleable__content pre {margin: 0.2em;color: black;border-radius: 0.25em;background-color: #f0f8ff;}#sk-container-id-1 input.sk-toggleable__control:checked~div.sk-toggleable__content {max-height: 200px;max-width: 100%;overflow: auto;}#sk-container-id-1 input.sk-toggleable__control:checked~label.sk-toggleable__label-arrow:before {content: \"▾\";}#sk-container-id-1 div.sk-estimator input.sk-toggleable__control:checked~label.sk-toggleable__label {background-color: #d4ebff;}#sk-container-id-1 div.sk-label input.sk-toggleable__control:checked~label.sk-toggleable__label {background-color: #d4ebff;}#sk-container-id-1 input.sk-hidden--visually {border: 0;clip: rect(1px 1px 1px 1px);clip: rect(1px, 1px, 1px, 1px);height: 1px;margin: -1px;overflow: hidden;padding: 0;position: absolute;width: 1px;}#sk-container-id-1 div.sk-estimator {font-family: monospace;background-color: #f0f8ff;border: 1px dotted black;border-radius: 0.25em;box-sizing: border-box;margin-bottom: 0.5em;}#sk-container-id-1 div.sk-estimator:hover {background-color: #d4ebff;}#sk-container-id-1 div.sk-parallel-item::after {content: \"\";width: 100%;border-bottom: 1px solid gray;flex-grow: 1;}#sk-container-id-1 div.sk-label:hover label.sk-toggleable__label {background-color: #d4ebff;}#sk-container-id-1 div.sk-serial::before {content: \"\";position: absolute;border-left: 1px solid gray;box-sizing: border-box;top: 0;bottom: 0;left: 50%;z-index: 0;}#sk-container-id-1 div.sk-serial {display: flex;flex-direction: column;align-items: center;background-color: white;padding-right: 0.2em;padding-left: 0.2em;position: relative;}#sk-container-id-1 div.sk-item {position: relative;z-index: 1;}#sk-container-id-1 div.sk-parallel {display: flex;align-items: stretch;justify-content: center;background-color: white;position: relative;}#sk-container-id-1 div.sk-item::before, #sk-container-id-1 div.sk-parallel-item::before {content: \"\";position: absolute;border-left: 1px solid gray;box-sizing: border-box;top: 0;bottom: 0;left: 50%;z-index: -1;}#sk-container-id-1 div.sk-parallel-item {display: flex;flex-direction: column;z-index: 1;position: relative;background-color: white;}#sk-container-id-1 div.sk-parallel-item:first-child::after {align-self: flex-end;width: 50%;}#sk-container-id-1 div.sk-parallel-item:last-child::after {align-self: flex-start;width: 50%;}#sk-container-id-1 div.sk-parallel-item:only-child::after {width: 0;}#sk-container-id-1 div.sk-dashed-wrapped {border: 1px dashed gray;margin: 0 0.4em 0.5em 0.4em;box-sizing: border-box;padding-bottom: 0.4em;background-color: white;}#sk-container-id-1 div.sk-label label {font-family: monospace;font-weight: bold;display: inline-block;line-height: 1.2em;}#sk-container-id-1 div.sk-label-container {text-align: center;}#sk-container-id-1 div.sk-container {/* jupyter's `normalize.less` sets `[hidden] { display: none; }` but bootstrap.min.css set `[hidden] { display: none !important; }` so we also need the `!important` here to be able to override the default hidden behavior on the sphinx rendered scikit-learn.org. See: https://github.com/scikit-learn/scikit-learn/issues/21755 */display: inline-block !important;position: relative;}#sk-container-id-1 div.sk-text-repr-fallback {display: none;}</style><div id=\"sk-container-id-1\" class=\"sk-top-container\"><div class=\"sk-text-repr-fallback\"><pre>SVC(kernel=&#x27;linear&#x27;)</pre><b>In a Jupyter environment, please rerun this cell to show the HTML representation or trust the notebook. <br />On GitHub, the HTML representation is unable to render, please try loading this page with nbviewer.org.</b></div><div class=\"sk-container\" hidden><div class=\"sk-item\"><div class=\"sk-estimator sk-toggleable\"><input class=\"sk-toggleable__control sk-hidden--visually\" id=\"sk-estimator-id-1\" type=\"checkbox\" checked><label for=\"sk-estimator-id-1\" class=\"sk-toggleable__label sk-toggleable__label-arrow\">SVC</label><div class=\"sk-toggleable__content\"><pre>SVC(kernel=&#x27;linear&#x27;)</pre></div></div></div></div></div>"
      ],
      "text/plain": [
       "SVC(kernel='linear')"
      ]
     },
     "execution_count": 15,
     "metadata": {},
     "output_type": "execute_result"
    }
   ],
   "source": [
    "svc.fit(X_train,y_train)"
   ]
  },
  {
   "cell_type": "code",
   "execution_count": 16,
   "id": "ccc5bc16-745d-4130-918e-cac9ebbc608b",
   "metadata": {},
   "outputs": [
    {
     "data": {
      "text/plain": [
       "array([0, 1, 1, 1, 1, 1, 1, 1, 1, 1, 0, 1, 1, 1, 1, 0, 1, 0, 0, 0, 0, 0,\n",
       "       1, 1, 1, 1, 1, 0, 1, 0, 1, 0, 1, 0, 1, 0, 1, 0, 1, 0, 0, 1, 0, 1,\n",
       "       0, 0, 1, 1, 1, 0, 0, 0, 0, 1, 1, 1, 1, 1, 1, 0, 0, 0, 1, 1, 0, 1,\n",
       "       0, 0, 0, 1, 0, 0, 1, 1, 0, 1, 1, 1, 1, 1, 0, 0, 0, 1, 0, 1, 1, 1,\n",
       "       0, 0, 1, 0, 0, 0, 1, 1, 0, 1, 1, 1, 1, 1, 1, 1, 0, 1, 0, 1, 0, 0,\n",
       "       1, 0, 0, 1, 1, 1, 1, 1, 1, 1, 1, 1, 0, 1, 0, 1, 1, 1, 1, 1, 0, 1,\n",
       "       1, 1, 1, 1, 1, 0, 0, 1, 1, 1, 0, 1, 1, 0, 1, 0, 1, 1, 1, 0, 1, 1,\n",
       "       1, 0, 1, 0, 1, 0, 0, 1, 1, 0, 1, 0, 0, 0, 1, 1, 1])"
      ]
     },
     "execution_count": 16,
     "metadata": {},
     "output_type": "execute_result"
    }
   ],
   "source": [
    "## Prediction\n",
    "y_pred = svc.predict(X_test)\n",
    "y_pred"
   ]
  },
  {
   "cell_type": "code",
   "execution_count": 17,
   "id": "04115789-4e7d-4a8a-b3ae-a5a9364792f1",
   "metadata": {},
   "outputs": [],
   "source": [
    "from sklearn.metrics import classification_report,confusion_matrix,accuracy_score"
   ]
  },
  {
   "cell_type": "code",
   "execution_count": 19,
   "id": "4367276f-000d-4240-bfdc-cdd1b53a3e73",
   "metadata": {},
   "outputs": [
    {
     "name": "stdout",
     "output_type": "stream",
     "text": [
      "              precision    recall  f1-score   support\n",
      "\n",
      "           0       0.97      0.92      0.95        66\n",
      "           1       0.95      0.98      0.97       105\n",
      "\n",
      "    accuracy                           0.96       171\n",
      "   macro avg       0.96      0.95      0.96       171\n",
      "weighted avg       0.96      0.96      0.96       171\n",
      "\n",
      "[[ 61   5]\n",
      " [  2 103]]\n",
      "0.9590643274853801\n"
     ]
    }
   ],
   "source": [
    "print(classification_report(y_pred,y_test))\n",
    "print(confusion_matrix(y_pred,y_test))\n",
    "print(accuracy_score(y_pred,y_test))"
   ]
  },
  {
   "cell_type": "code",
   "execution_count": 20,
   "id": "4846c582-04d9-496e-a680-89acc6070835",
   "metadata": {},
   "outputs": [],
   "source": [
    "## \n",
    "from sklearn.model_selection import GridSearchCV\n",
    "\n",
    "## Defining parameter range\n",
    "param_grid = {'C':[0.1,1,10,100,1000],\n",
    "             'gamma':[1,0.1,0.01,0.001,0.0001],\n",
    "              'kernel':['linear'],\n",
    "             }"
   ]
  },
  {
   "cell_type": "code",
   "execution_count": 21,
   "id": "5b8723e4-4f54-4400-9451-19da53c32c09",
   "metadata": {},
   "outputs": [],
   "source": [
    "grid = GridSearchCV(SVC(),param_grid= param_grid,refit = True,cv = 5,verbose = 3)"
   ]
  },
  {
   "cell_type": "code",
   "execution_count": 22,
   "id": "c0c8a9ca-3dd2-4aaf-b296-acc5199ef186",
   "metadata": {},
   "outputs": [
    {
     "name": "stdout",
     "output_type": "stream",
     "text": [
      "Fitting 5 folds for each of 25 candidates, totalling 125 fits\n",
      "[CV 1/5] END .....C=0.1, gamma=1, kernel=linear;, score=0.975 total time=   0.1s\n",
      "[CV 2/5] END .....C=0.1, gamma=1, kernel=linear;, score=0.925 total time=   0.0s\n",
      "[CV 3/5] END .....C=0.1, gamma=1, kernel=linear;, score=0.950 total time=   0.0s\n",
      "[CV 4/5] END .....C=0.1, gamma=1, kernel=linear;, score=0.975 total time=   0.2s\n",
      "[CV 5/5] END .....C=0.1, gamma=1, kernel=linear;, score=0.975 total time=   0.1s\n",
      "[CV 1/5] END ...C=0.1, gamma=0.1, kernel=linear;, score=0.975 total time=   0.1s\n",
      "[CV 2/5] END ...C=0.1, gamma=0.1, kernel=linear;, score=0.925 total time=   0.0s\n",
      "[CV 3/5] END ...C=0.1, gamma=0.1, kernel=linear;, score=0.950 total time=   0.0s\n",
      "[CV 4/5] END ...C=0.1, gamma=0.1, kernel=linear;, score=0.975 total time=   0.2s\n",
      "[CV 5/5] END ...C=0.1, gamma=0.1, kernel=linear;, score=0.975 total time=   0.1s\n",
      "[CV 1/5] END ..C=0.1, gamma=0.01, kernel=linear;, score=0.975 total time=   0.1s\n",
      "[CV 2/5] END ..C=0.1, gamma=0.01, kernel=linear;, score=0.925 total time=   0.1s\n",
      "[CV 3/5] END ..C=0.1, gamma=0.01, kernel=linear;, score=0.950 total time=   0.1s\n",
      "[CV 4/5] END ..C=0.1, gamma=0.01, kernel=linear;, score=0.975 total time=   0.2s\n",
      "[CV 5/5] END ..C=0.1, gamma=0.01, kernel=linear;, score=0.975 total time=   0.1s\n",
      "[CV 1/5] END .C=0.1, gamma=0.001, kernel=linear;, score=0.975 total time=   0.1s\n",
      "[CV 2/5] END .C=0.1, gamma=0.001, kernel=linear;, score=0.925 total time=   0.0s\n",
      "[CV 3/5] END .C=0.1, gamma=0.001, kernel=linear;, score=0.950 total time=   0.0s\n",
      "[CV 4/5] END .C=0.1, gamma=0.001, kernel=linear;, score=0.975 total time=   0.2s\n",
      "[CV 5/5] END .C=0.1, gamma=0.001, kernel=linear;, score=0.975 total time=   0.1s\n",
      "[CV 1/5] END C=0.1, gamma=0.0001, kernel=linear;, score=0.975 total time=   0.1s\n",
      "[CV 2/5] END C=0.1, gamma=0.0001, kernel=linear;, score=0.925 total time=   0.0s\n",
      "[CV 3/5] END C=0.1, gamma=0.0001, kernel=linear;, score=0.950 total time=   0.1s\n",
      "[CV 4/5] END C=0.1, gamma=0.0001, kernel=linear;, score=0.975 total time=   0.2s\n",
      "[CV 5/5] END C=0.1, gamma=0.0001, kernel=linear;, score=0.975 total time=   0.1s\n",
      "[CV 1/5] END .......C=1, gamma=1, kernel=linear;, score=0.988 total time=   0.6s\n",
      "[CV 2/5] END .......C=1, gamma=1, kernel=linear;, score=0.912 total time=   0.9s\n",
      "[CV 3/5] END .......C=1, gamma=1, kernel=linear;, score=0.938 total time=   0.4s\n",
      "[CV 4/5] END .......C=1, gamma=1, kernel=linear;, score=0.962 total time=   0.8s\n",
      "[CV 5/5] END .......C=1, gamma=1, kernel=linear;, score=0.975 total time=   0.7s\n",
      "[CV 1/5] END .....C=1, gamma=0.1, kernel=linear;, score=0.988 total time=   0.5s\n",
      "[CV 2/5] END .....C=1, gamma=0.1, kernel=linear;, score=0.912 total time=   0.9s\n",
      "[CV 3/5] END .....C=1, gamma=0.1, kernel=linear;, score=0.938 total time=   0.4s\n",
      "[CV 4/5] END .....C=1, gamma=0.1, kernel=linear;, score=0.962 total time=   0.8s\n",
      "[CV 5/5] END .....C=1, gamma=0.1, kernel=linear;, score=0.975 total time=   0.6s\n",
      "[CV 1/5] END ....C=1, gamma=0.01, kernel=linear;, score=0.988 total time=   0.6s\n",
      "[CV 2/5] END ....C=1, gamma=0.01, kernel=linear;, score=0.912 total time=   0.9s\n",
      "[CV 3/5] END ....C=1, gamma=0.01, kernel=linear;, score=0.938 total time=   0.4s\n",
      "[CV 4/5] END ....C=1, gamma=0.01, kernel=linear;, score=0.962 total time=   0.8s\n",
      "[CV 5/5] END ....C=1, gamma=0.01, kernel=linear;, score=0.975 total time=   0.6s\n",
      "[CV 1/5] END ...C=1, gamma=0.001, kernel=linear;, score=0.988 total time=   0.5s\n",
      "[CV 2/5] END ...C=1, gamma=0.001, kernel=linear;, score=0.912 total time=   0.9s\n",
      "[CV 3/5] END ...C=1, gamma=0.001, kernel=linear;, score=0.938 total time=   0.4s\n",
      "[CV 4/5] END ...C=1, gamma=0.001, kernel=linear;, score=0.962 total time=   0.8s\n",
      "[CV 5/5] END ...C=1, gamma=0.001, kernel=linear;, score=0.975 total time=   0.6s\n",
      "[CV 1/5] END ..C=1, gamma=0.0001, kernel=linear;, score=0.988 total time=   0.6s\n",
      "[CV 2/5] END ..C=1, gamma=0.0001, kernel=linear;, score=0.912 total time=   0.9s\n",
      "[CV 3/5] END ..C=1, gamma=0.0001, kernel=linear;, score=0.938 total time=   0.4s\n",
      "[CV 4/5] END ..C=1, gamma=0.0001, kernel=linear;, score=0.962 total time=   0.8s\n",
      "[CV 5/5] END ..C=1, gamma=0.0001, kernel=linear;, score=0.975 total time=   0.6s\n",
      "[CV 1/5] END ......C=10, gamma=1, kernel=linear;, score=0.988 total time=   3.9s\n",
      "[CV 2/5] END ......C=10, gamma=1, kernel=linear;, score=0.900 total time=   2.7s\n",
      "[CV 3/5] END ......C=10, gamma=1, kernel=linear;, score=0.938 total time=   2.9s\n",
      "[CV 4/5] END ......C=10, gamma=1, kernel=linear;, score=0.949 total time=   1.9s\n",
      "[CV 5/5] END ......C=10, gamma=1, kernel=linear;, score=0.975 total time=   3.5s\n",
      "[CV 1/5] END ....C=10, gamma=0.1, kernel=linear;, score=0.988 total time=   3.9s\n",
      "[CV 2/5] END ....C=10, gamma=0.1, kernel=linear;, score=0.900 total time=   2.7s\n",
      "[CV 3/5] END ....C=10, gamma=0.1, kernel=linear;, score=0.938 total time=   3.0s\n",
      "[CV 4/5] END ....C=10, gamma=0.1, kernel=linear;, score=0.949 total time=   1.8s\n",
      "[CV 5/5] END ....C=10, gamma=0.1, kernel=linear;, score=0.975 total time=   3.6s\n",
      "[CV 1/5] END ...C=10, gamma=0.01, kernel=linear;, score=0.988 total time=   3.9s\n",
      "[CV 2/5] END ...C=10, gamma=0.01, kernel=linear;, score=0.900 total time=   2.7s\n",
      "[CV 3/5] END ...C=10, gamma=0.01, kernel=linear;, score=0.938 total time=   3.0s\n",
      "[CV 4/5] END ...C=10, gamma=0.01, kernel=linear;, score=0.949 total time=   1.9s\n",
      "[CV 5/5] END ...C=10, gamma=0.01, kernel=linear;, score=0.975 total time=   3.6s\n",
      "[CV 1/5] END ..C=10, gamma=0.001, kernel=linear;, score=0.988 total time=   3.9s\n",
      "[CV 2/5] END ..C=10, gamma=0.001, kernel=linear;, score=0.900 total time=   2.7s\n",
      "[CV 3/5] END ..C=10, gamma=0.001, kernel=linear;, score=0.938 total time=   2.9s\n",
      "[CV 4/5] END ..C=10, gamma=0.001, kernel=linear;, score=0.949 total time=   1.8s\n",
      "[CV 5/5] END ..C=10, gamma=0.001, kernel=linear;, score=0.975 total time=   3.7s\n",
      "[CV 1/5] END .C=10, gamma=0.0001, kernel=linear;, score=0.988 total time=   3.9s\n",
      "[CV 2/5] END .C=10, gamma=0.0001, kernel=linear;, score=0.900 total time=   2.7s\n",
      "[CV 3/5] END .C=10, gamma=0.0001, kernel=linear;, score=0.938 total time=   2.9s\n",
      "[CV 4/5] END .C=10, gamma=0.0001, kernel=linear;, score=0.949 total time=   1.8s\n",
      "[CV 5/5] END .C=10, gamma=0.0001, kernel=linear;, score=0.975 total time=   3.6s\n",
      "[CV 1/5] END .....C=100, gamma=1, kernel=linear;, score=0.988 total time=   2.6s\n",
      "[CV 2/5] END .....C=100, gamma=1, kernel=linear;, score=0.925 total time=   0.9s\n",
      "[CV 3/5] END .....C=100, gamma=1, kernel=linear;, score=0.925 total time=  14.5s\n",
      "[CV 4/5] END .....C=100, gamma=1, kernel=linear;, score=0.962 total time=   9.1s\n",
      "[CV 5/5] END .....C=100, gamma=1, kernel=linear;, score=0.975 total time=   8.0s\n",
      "[CV 1/5] END ...C=100, gamma=0.1, kernel=linear;, score=0.988 total time=   2.6s\n",
      "[CV 2/5] END ...C=100, gamma=0.1, kernel=linear;, score=0.925 total time=   0.9s\n",
      "[CV 3/5] END ...C=100, gamma=0.1, kernel=linear;, score=0.925 total time=  14.4s\n",
      "[CV 4/5] END ...C=100, gamma=0.1, kernel=linear;, score=0.962 total time=   9.1s\n",
      "[CV 5/5] END ...C=100, gamma=0.1, kernel=linear;, score=0.975 total time=   7.9s\n",
      "[CV 1/5] END ..C=100, gamma=0.01, kernel=linear;, score=0.988 total time=   2.6s\n",
      "[CV 2/5] END ..C=100, gamma=0.01, kernel=linear;, score=0.925 total time=   0.9s\n",
      "[CV 3/5] END ..C=100, gamma=0.01, kernel=linear;, score=0.925 total time=  14.4s\n",
      "[CV 4/5] END ..C=100, gamma=0.01, kernel=linear;, score=0.962 total time=   9.0s\n",
      "[CV 5/5] END ..C=100, gamma=0.01, kernel=linear;, score=0.975 total time=   7.9s\n",
      "[CV 1/5] END .C=100, gamma=0.001, kernel=linear;, score=0.988 total time=   2.6s\n",
      "[CV 2/5] END .C=100, gamma=0.001, kernel=linear;, score=0.925 total time=   0.9s\n",
      "[CV 3/5] END .C=100, gamma=0.001, kernel=linear;, score=0.925 total time=  14.7s\n",
      "[CV 4/5] END .C=100, gamma=0.001, kernel=linear;, score=0.962 total time=   9.2s\n",
      "[CV 5/5] END .C=100, gamma=0.001, kernel=linear;, score=0.975 total time=   7.9s\n",
      "[CV 1/5] END C=100, gamma=0.0001, kernel=linear;, score=0.988 total time=   2.6s\n",
      "[CV 2/5] END C=100, gamma=0.0001, kernel=linear;, score=0.925 total time=   0.9s\n",
      "[CV 3/5] END C=100, gamma=0.0001, kernel=linear;, score=0.925 total time=  14.5s\n",
      "[CV 4/5] END C=100, gamma=0.0001, kernel=linear;, score=0.962 total time=   9.2s\n",
      "[CV 5/5] END C=100, gamma=0.0001, kernel=linear;, score=0.975 total time=   8.0s\n",
      "[CV 1/5] END ....C=1000, gamma=1, kernel=linear;, score=0.988 total time=   2.5s\n",
      "[CV 2/5] END ....C=1000, gamma=1, kernel=linear;, score=0.912 total time=   3.2s\n",
      "[CV 3/5] END ....C=1000, gamma=1, kernel=linear;, score=0.925 total time=  23.2s\n",
      "[CV 4/5] END ....C=1000, gamma=1, kernel=linear;, score=0.962 total time=  13.4s\n",
      "[CV 5/5] END ....C=1000, gamma=1, kernel=linear;, score=0.962 total time=   7.1s\n",
      "[CV 1/5] END ..C=1000, gamma=0.1, kernel=linear;, score=0.988 total time=   2.5s\n",
      "[CV 2/5] END ..C=1000, gamma=0.1, kernel=linear;, score=0.912 total time=   3.2s\n",
      "[CV 3/5] END ..C=1000, gamma=0.1, kernel=linear;, score=0.925 total time=  23.3s\n",
      "[CV 4/5] END ..C=1000, gamma=0.1, kernel=linear;, score=0.962 total time=  13.6s\n",
      "[CV 5/5] END ..C=1000, gamma=0.1, kernel=linear;, score=0.962 total time=   7.1s\n",
      "[CV 1/5] END .C=1000, gamma=0.01, kernel=linear;, score=0.988 total time=   2.4s\n",
      "[CV 2/5] END .C=1000, gamma=0.01, kernel=linear;, score=0.912 total time=   3.1s\n",
      "[CV 3/5] END .C=1000, gamma=0.01, kernel=linear;, score=0.925 total time=  23.2s\n",
      "[CV 4/5] END .C=1000, gamma=0.01, kernel=linear;, score=0.962 total time=  13.3s\n",
      "[CV 5/5] END .C=1000, gamma=0.01, kernel=linear;, score=0.962 total time=   7.2s\n",
      "[CV 1/5] END C=1000, gamma=0.001, kernel=linear;, score=0.988 total time=   2.5s\n",
      "[CV 2/5] END C=1000, gamma=0.001, kernel=linear;, score=0.912 total time=   3.1s\n",
      "[CV 3/5] END C=1000, gamma=0.001, kernel=linear;, score=0.925 total time=  23.3s\n",
      "[CV 4/5] END C=1000, gamma=0.001, kernel=linear;, score=0.962 total time=  13.5s\n",
      "[CV 5/5] END C=1000, gamma=0.001, kernel=linear;, score=0.962 total time=   7.1s\n",
      "[CV 1/5] END C=1000, gamma=0.0001, kernel=linear;, score=0.988 total time=   2.4s\n",
      "[CV 2/5] END C=1000, gamma=0.0001, kernel=linear;, score=0.912 total time=   3.1s\n",
      "[CV 3/5] END C=1000, gamma=0.0001, kernel=linear;, score=0.925 total time=  23.0s\n",
      "[CV 4/5] END C=1000, gamma=0.0001, kernel=linear;, score=0.962 total time=  13.4s\n",
      "[CV 5/5] END C=1000, gamma=0.0001, kernel=linear;, score=0.962 total time=   7.1s\n"
     ]
    },
    {
     "data": {
      "text/html": [
       "<style>#sk-container-id-2 {color: black;background-color: white;}#sk-container-id-2 pre{padding: 0;}#sk-container-id-2 div.sk-toggleable {background-color: white;}#sk-container-id-2 label.sk-toggleable__label {cursor: pointer;display: block;width: 100%;margin-bottom: 0;padding: 0.3em;box-sizing: border-box;text-align: center;}#sk-container-id-2 label.sk-toggleable__label-arrow:before {content: \"▸\";float: left;margin-right: 0.25em;color: #696969;}#sk-container-id-2 label.sk-toggleable__label-arrow:hover:before {color: black;}#sk-container-id-2 div.sk-estimator:hover label.sk-toggleable__label-arrow:before {color: black;}#sk-container-id-2 div.sk-toggleable__content {max-height: 0;max-width: 0;overflow: hidden;text-align: left;background-color: #f0f8ff;}#sk-container-id-2 div.sk-toggleable__content pre {margin: 0.2em;color: black;border-radius: 0.25em;background-color: #f0f8ff;}#sk-container-id-2 input.sk-toggleable__control:checked~div.sk-toggleable__content {max-height: 200px;max-width: 100%;overflow: auto;}#sk-container-id-2 input.sk-toggleable__control:checked~label.sk-toggleable__label-arrow:before {content: \"▾\";}#sk-container-id-2 div.sk-estimator input.sk-toggleable__control:checked~label.sk-toggleable__label {background-color: #d4ebff;}#sk-container-id-2 div.sk-label input.sk-toggleable__control:checked~label.sk-toggleable__label {background-color: #d4ebff;}#sk-container-id-2 input.sk-hidden--visually {border: 0;clip: rect(1px 1px 1px 1px);clip: rect(1px, 1px, 1px, 1px);height: 1px;margin: -1px;overflow: hidden;padding: 0;position: absolute;width: 1px;}#sk-container-id-2 div.sk-estimator {font-family: monospace;background-color: #f0f8ff;border: 1px dotted black;border-radius: 0.25em;box-sizing: border-box;margin-bottom: 0.5em;}#sk-container-id-2 div.sk-estimator:hover {background-color: #d4ebff;}#sk-container-id-2 div.sk-parallel-item::after {content: \"\";width: 100%;border-bottom: 1px solid gray;flex-grow: 1;}#sk-container-id-2 div.sk-label:hover label.sk-toggleable__label {background-color: #d4ebff;}#sk-container-id-2 div.sk-serial::before {content: \"\";position: absolute;border-left: 1px solid gray;box-sizing: border-box;top: 0;bottom: 0;left: 50%;z-index: 0;}#sk-container-id-2 div.sk-serial {display: flex;flex-direction: column;align-items: center;background-color: white;padding-right: 0.2em;padding-left: 0.2em;position: relative;}#sk-container-id-2 div.sk-item {position: relative;z-index: 1;}#sk-container-id-2 div.sk-parallel {display: flex;align-items: stretch;justify-content: center;background-color: white;position: relative;}#sk-container-id-2 div.sk-item::before, #sk-container-id-2 div.sk-parallel-item::before {content: \"\";position: absolute;border-left: 1px solid gray;box-sizing: border-box;top: 0;bottom: 0;left: 50%;z-index: -1;}#sk-container-id-2 div.sk-parallel-item {display: flex;flex-direction: column;z-index: 1;position: relative;background-color: white;}#sk-container-id-2 div.sk-parallel-item:first-child::after {align-self: flex-end;width: 50%;}#sk-container-id-2 div.sk-parallel-item:last-child::after {align-self: flex-start;width: 50%;}#sk-container-id-2 div.sk-parallel-item:only-child::after {width: 0;}#sk-container-id-2 div.sk-dashed-wrapped {border: 1px dashed gray;margin: 0 0.4em 0.5em 0.4em;box-sizing: border-box;padding-bottom: 0.4em;background-color: white;}#sk-container-id-2 div.sk-label label {font-family: monospace;font-weight: bold;display: inline-block;line-height: 1.2em;}#sk-container-id-2 div.sk-label-container {text-align: center;}#sk-container-id-2 div.sk-container {/* jupyter's `normalize.less` sets `[hidden] { display: none; }` but bootstrap.min.css set `[hidden] { display: none !important; }` so we also need the `!important` here to be able to override the default hidden behavior on the sphinx rendered scikit-learn.org. See: https://github.com/scikit-learn/scikit-learn/issues/21755 */display: inline-block !important;position: relative;}#sk-container-id-2 div.sk-text-repr-fallback {display: none;}</style><div id=\"sk-container-id-2\" class=\"sk-top-container\"><div class=\"sk-text-repr-fallback\"><pre>GridSearchCV(cv=5, estimator=SVC(),\n",
       "             param_grid={&#x27;C&#x27;: [0.1, 1, 10, 100, 1000],\n",
       "                         &#x27;gamma&#x27;: [1, 0.1, 0.01, 0.001, 0.0001],\n",
       "                         &#x27;kernel&#x27;: [&#x27;linear&#x27;]},\n",
       "             verbose=3)</pre><b>In a Jupyter environment, please rerun this cell to show the HTML representation or trust the notebook. <br />On GitHub, the HTML representation is unable to render, please try loading this page with nbviewer.org.</b></div><div class=\"sk-container\" hidden><div class=\"sk-item sk-dashed-wrapped\"><div class=\"sk-label-container\"><div class=\"sk-label sk-toggleable\"><input class=\"sk-toggleable__control sk-hidden--visually\" id=\"sk-estimator-id-2\" type=\"checkbox\" ><label for=\"sk-estimator-id-2\" class=\"sk-toggleable__label sk-toggleable__label-arrow\">GridSearchCV</label><div class=\"sk-toggleable__content\"><pre>GridSearchCV(cv=5, estimator=SVC(),\n",
       "             param_grid={&#x27;C&#x27;: [0.1, 1, 10, 100, 1000],\n",
       "                         &#x27;gamma&#x27;: [1, 0.1, 0.01, 0.001, 0.0001],\n",
       "                         &#x27;kernel&#x27;: [&#x27;linear&#x27;]},\n",
       "             verbose=3)</pre></div></div></div><div class=\"sk-parallel\"><div class=\"sk-parallel-item\"><div class=\"sk-item\"><div class=\"sk-label-container\"><div class=\"sk-label sk-toggleable\"><input class=\"sk-toggleable__control sk-hidden--visually\" id=\"sk-estimator-id-3\" type=\"checkbox\" ><label for=\"sk-estimator-id-3\" class=\"sk-toggleable__label sk-toggleable__label-arrow\">estimator: SVC</label><div class=\"sk-toggleable__content\"><pre>SVC()</pre></div></div></div><div class=\"sk-serial\"><div class=\"sk-item\"><div class=\"sk-estimator sk-toggleable\"><input class=\"sk-toggleable__control sk-hidden--visually\" id=\"sk-estimator-id-4\" type=\"checkbox\" ><label for=\"sk-estimator-id-4\" class=\"sk-toggleable__label sk-toggleable__label-arrow\">SVC</label><div class=\"sk-toggleable__content\"><pre>SVC()</pre></div></div></div></div></div></div></div></div></div></div>"
      ],
      "text/plain": [
       "GridSearchCV(cv=5, estimator=SVC(),\n",
       "             param_grid={'C': [0.1, 1, 10, 100, 1000],\n",
       "                         'gamma': [1, 0.1, 0.01, 0.001, 0.0001],\n",
       "                         'kernel': ['linear']},\n",
       "             verbose=3)"
      ]
     },
     "execution_count": 22,
     "metadata": {},
     "output_type": "execute_result"
    }
   ],
   "source": [
    "grid.fit(X_train,y_train)"
   ]
  },
  {
   "cell_type": "code",
   "execution_count": 23,
   "id": "44742d59-92e3-48bf-9085-a39f1b212557",
   "metadata": {},
   "outputs": [
    {
     "data": {
      "text/plain": [
       "{'C': 0.1, 'gamma': 1, 'kernel': 'linear'}"
      ]
     },
     "execution_count": 23,
     "metadata": {},
     "output_type": "execute_result"
    }
   ],
   "source": [
    "grid.best_params_"
   ]
  },
  {
   "cell_type": "code",
   "execution_count": 24,
   "id": "a8799bf3-d377-4c5c-9941-b5ad37b128ea",
   "metadata": {},
   "outputs": [
    {
     "name": "stdout",
     "output_type": "stream",
     "text": [
      "              precision    recall  f1-score   support\n",
      "\n",
      "           0       0.97      0.88      0.92        69\n",
      "           1       0.93      0.98      0.95       102\n",
      "\n",
      "    accuracy                           0.94       171\n",
      "   macro avg       0.95      0.93      0.94       171\n",
      "weighted avg       0.94      0.94      0.94       171\n",
      "\n",
      "[[ 61   2]\n",
      " [  8 100]]\n",
      "0.9415204678362573\n"
     ]
    }
   ],
   "source": [
    "## Prediction\n",
    "y_pred = grid.predict(X_test)\n",
    "print(classification_report(y_pred,y_test))\n",
    "print(confusion_matrix(y_test,y_pred))\n",
    "print(accuracy_score(y_pred,y_test))"
   ]
  },
  {
   "cell_type": "code",
   "execution_count": null,
   "id": "10bd16f7-0a2d-4aa0-a366-ac46723f06d9",
   "metadata": {},
   "outputs": [],
   "source": []
  }
 ],
 "metadata": {
  "kernelspec": {
   "display_name": "Python 3 (ipykernel)",
   "language": "python",
   "name": "python3"
  },
  "language_info": {
   "codemirror_mode": {
    "name": "ipython",
    "version": 3
   },
   "file_extension": ".py",
   "mimetype": "text/x-python",
   "name": "python",
   "nbconvert_exporter": "python",
   "pygments_lexer": "ipython3",
   "version": "3.10.8"
  }
 },
 "nbformat": 4,
 "nbformat_minor": 5
}
